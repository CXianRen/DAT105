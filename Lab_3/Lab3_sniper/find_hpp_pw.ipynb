{
 "cells": [
  {
   "cell_type": "code",
   "execution_count": 2,
   "metadata": {},
   "outputs": [],
   "source": [
    "\n",
    "import os\n",
    "import threading\n",
    "import subprocess\n",
    "\n",
    "def run_a_cmd(cmd, is_print=False):\n",
    "  print(cmd, flush=True)\n",
    "  result = subprocess.run(cmd,shell=True)\n",
    "  if is_print==True:\n",
    "    print(\"done cmd\", flush= True)\n",
    "\n",
    "tf = open(\"./base4.cfg.template\")\n",
    "template_str = tf.read()"
   ]
  },
  {
   "cell_type": "code",
   "execution_count": null,
   "metadata": {},
   "outputs": [],
   "source": [
    "\n",
    "\n",
    "\n",
    "LSQ_list = [1,8,16]\n",
    "RS_list = [1,16,32]\n",
    "WS_list = [16,64,128]\n",
    "DP_list = [1,4,8]\n",
    "CM_list = [1,4,8]\n",
    "\n",
    "index = 0\n",
    "\n",
    "plist = []\n",
    "for LSQ in LSQ_list:\n",
    "    for RS in RS_list:\n",
    "        for WS in WS_list:\n",
    "            for DP in DP_list:\n",
    "                for CM in CM_list:\n",
    "                    index +=1\n",
    "                    f = \"%.3d_LSQ_%.2d_RS_%.2d_WS_%.3d_DP_%.2d_CM_%.2d\"%(index,LSQ,RS,WS,DP,CM)\n",
    "                    os.system(\"mkdir -p %s\"%(\"HPP-PW-S/\" + f))\n",
    "                    cfg= open(\"HPP-PW-S/\" + f+\"/base4.cfg\", 'w')\n",
    "                    cfg_str = template_str.format(LSQ=LSQ, RS=RS,WS=WS,DP=DP,CM=CM)\n",
    "                    cfg.write(cfg_str)\n",
    "                    cfg.close()\n",
    "                    # print(f)\n",
    "                    t = threading.Thread(target=run_a_cmd,args=(\"bash runsim_dijkstra.sh HPP-PW-S/\"+f + \" base4\",))\n",
    "                    # run_a_cmd(cmd, True)\n",
    "                    t.start()\n",
    "                    plist.append(t)\n",
    "                    if len(plist)>= os.cpu_count() * 2 :\n",
    "                        print(\"%d thread have been strated!, waitting them to be done!\"% len(plist))\n",
    "                        # wait all thread done\n",
    "                        for i in range(len(plist)):\n",
    "                            t= plist[i]\n",
    "                            t.join()\n",
    "                            # print(\"%d:%d done!\"%(i+1, len(plist)))\n",
    "                        plist=[]"
   ]
  },
  {
   "cell_type": "code",
   "execution_count": 3,
   "metadata": {},
   "outputs": [
    {
     "name": "stdout",
     "output_type": "stream",
     "text": [
      "['LSQ', '16', 'RS', '32', 'WS', '016', 'DP', '08', 'CM', '08']\n",
      "bash runsim.sh HPP-PW-S/225-LSQ-16-RS-32-WS-016-DP-08-CM-08 base4\n"
     ]
    },
    {
     "name": "stdout",
     "output_type": "stream",
     "text": [
      "running app dijkstra\n"
     ]
    },
    {
     "name": "stderr",
     "output_type": "stream",
     "text": [
      "Cache size must >=64\n",
      "Cache size must >=64\n"
     ]
    },
    {
     "name": "stdout",
     "output_type": "stream",
     "text": [
      "\u001b[32mdijkstra Simulation finished. Runtime: 42.321617924 seconds\u001b[0m\n",
      "running app search_small\n"
     ]
    },
    {
     "name": "stderr",
     "output_type": "stream",
     "text": [
      "Cache size must >=64\n",
      "Cache size must >=64\n"
     ]
    },
    {
     "name": "stdout",
     "output_type": "stream",
     "text": [
      "\u001b[32msearch_small Simulation finished. Runtime: 5.066304716 seconds\u001b[0m\n",
      "running app qsort\n"
     ]
    },
    {
     "name": "stderr",
     "output_type": "stream",
     "text": [
      "Cache size must >=64\n",
      "Cache size must >=64\n"
     ]
    },
    {
     "name": "stdout",
     "output_type": "stream",
     "text": [
      "\u001b[32mqsort Simulation finished. Runtime: 21.107779527 seconds\u001b[0m\n",
      "running app gsm\n"
     ]
    },
    {
     "name": "stderr",
     "output_type": "stream",
     "text": [
      "Cache size must >=64\n",
      "Cache size must >=64\n"
     ]
    },
    {
     "name": "stdout",
     "output_type": "stream",
     "text": [
      "\u001b[32m gsmSimulation finished. Runtime: 8.088055917 seconds\u001b[0m\n",
      "running app jpeg\n"
     ]
    },
    {
     "name": "stderr",
     "output_type": "stream",
     "text": [
      "Cache size must >=64\n",
      "Cache size must >=64\n"
     ]
    },
    {
     "name": "stdout",
     "output_type": "stream",
     "text": [
      "\u001b[32mjpeg Simulation finished. Runtime: 18.076088377 seconds\u001b[0m\n",
      "\u001b[32mAll Simulations finished. Runtime: 94.678159251 seconds\u001b[0m\n"
     ]
    }
   ],
   "source": [
    "\n",
    "HPP_PW_list=[\n",
    "    # \"124-LSQ-08-RS-16-WS-064-DP-08-CM-01\",\n",
    "    # \"205-LSQ-16-RS-16-WS-064-DP-08-CM-01\",\n",
    "    # \"151-LSQ-08-RS-32-WS-064-DP-08-CM-01\",\n",
    "    # \"232-LSQ-16-RS-32-WS-064-DP-08-CM-01\",\n",
    "    # \"043-LSQ-01-RS-16-WS-064-DP-08-CM-01\",\n",
    "    # \"045-LSQ-01-RS-16-WS-064-DP-08-CM-08\",\n",
    "    # \"044-LSQ-01-RS-16-WS-064-DP-08-CM-04\",\n",
    "    # \"072-LSQ-01-RS-32-WS-064-DP-08-CM-08\",\n",
    "    # \"070-LSQ-01-RS-32-WS-064-DP-08-CM-01\",\n",
    "    # \"071-LSQ-01-RS-32-WS-064-DP-08-CM-04\"\n",
    "    \n",
    "    #edp\n",
    "    \"225-LSQ-16-RS-32-WS-016-DP-08-CM-08\"\n",
    "]\n",
    "plist=[]\n",
    "for f in HPP_PW_list:\n",
    "    # f = \"%.3d_LSQ_%.2d_RS_%.2d_WS_%.3d_DP_%.2d_CM_%.2d\"%(index,LSQ,RS,WS,DP,CM)\n",
    "    os.system(\"mkdir -p %s\"%(\"HPP-PW-S/\" + f))\n",
    "    cfg= open(\"HPP-PW-S/\" + f+\"/base4.cfg\", 'w')\n",
    "    param = f.split(\"-\")[1:]\n",
    "    print(param)\n",
    "    cfg_str = template_str.format(LSQ=int(param[1]), RS=int(param[3]),\n",
    "                                  WS=int(param[5]),DP=int(param[7]),CM=int(param[9]))\n",
    "    cfg.write(cfg_str)\n",
    "    cfg.close()\n",
    "    # print(f)\n",
    "    t = threading.Thread(target=run_a_cmd,args=(\"bash runsim.sh HPP-PW-S/\"+f + \" base4\",))\n",
    "    # run_a_cmd(cmd, True)\n",
    "    t.start()\n",
    "    plist.append(t)\n",
    "    if len(plist)>= os.cpu_count() * 2 :\n",
    "        print(\"%d thread have been strated!, waitting them to be done!\"% len(plist))\n",
    "        # wait all thread done\n",
    "        for i in range(len(plist)):\n",
    "            t= plist[i]\n",
    "            t.join()\n",
    "            # print(\"%d:%d done!\"%(i+1, len(plist)))\n",
    "        plist=[]"
   ]
  }
 ],
 "metadata": {
  "kernelspec": {
   "display_name": "Python 3",
   "language": "python",
   "name": "python3"
  },
  "language_info": {
   "codemirror_mode": {
    "name": "ipython",
    "version": 3
   },
   "file_extension": ".py",
   "mimetype": "text/x-python",
   "name": "python",
   "nbconvert_exporter": "python",
   "pygments_lexer": "ipython3",
   "version": "3.10.13"
  },
  "orig_nbformat": 4
 },
 "nbformat": 4,
 "nbformat_minor": 2
}
