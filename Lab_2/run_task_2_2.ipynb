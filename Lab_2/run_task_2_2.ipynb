{
 "cells": [
  {
   "cell_type": "code",
   "execution_count": 4,
   "metadata": {},
   "outputs": [],
   "source": [
    "#### this script is for task 2 ####\n",
    "\n",
    "import os,sys\n",
    "import subprocess\n",
    "import threading\n",
    "\n",
    "working_path=\"./simhome/\"\n",
    "\n",
    "SIM_BIN=\"./bin/sim-outorder\"\n",
    "CONFIG=\"-config ./base2.txt\"\n",
    "\n",
    "\n",
    "def run_a_cmd(cmd, is_print=False):\n",
    "  # print(cmd, flush=True)\n",
    "  cmd = \"cd \" + working_path + \";\" + cmd\n",
    "  result = subprocess.run(cmd,shell=True)\n",
    "  if is_print==True:\n",
    "    print(\"done cmd\", flush= True)\n"
   ]
  },
  {
   "cell_type": "code",
   "execution_count": 5,
   "metadata": {},
   "outputs": [
    {
     "name": "stdout",
     "output_type": "stream",
     "text": [
      "dict_keys(['dijkstra_small'])\n"
     ]
    },
    {
     "name": "stdout",
     "output_type": "stream",
     "text": [
      "16 thread have been strated!, waitting them to be done!\n"
     ]
    },
    {
     "name": "stderr",
     "output_type": "stream",
     "text": [
      "batch processing...:   0%|          | 0/16 [00:00<?, ?it/s]"
     ]
    }
   ],
   "source": [
    "from tqdm import tqdm\n",
    "# clean all old results\n",
    "# run_a_cmd(\"rm -rf ./configs/task_2_2\")\n",
    "\n",
    "# run pipeline with in-order issue\n",
    "# -issue:inorder                true\n",
    "\n",
    "# instruction fetch queue size (in insts)\n",
    "# -fetch:ifqsize                    4 \n",
    "IF_Queue_size_list=[2,4,8]\n",
    "# register update unit (RUU) size\n",
    "# -ruu:size                        16\n",
    "RUU_size_list = [16,32,64,128]\n",
    "# load/store queue (LSQ) size\n",
    "# -lsq:size                         8\n",
    "# LSQ_list = RUU_size_list/2\n",
    "# total number of integer ALU's available\n",
    "# -res:ialu                         1 \n",
    "ALUs_list = [1,2,3,4,5,6,7,8]\n",
    "# total number of integer multiplier/dividers available\n",
    "# -res:imult                        1 \n",
    "Mults_list = [1,2,3,4]\n",
    "# issue instructions down wrong execution paths\n",
    "# -issue:wrongpath               false\n",
    "Issue_wrong_path_list = [\"True\", \"False\"]\n",
    "\n",
    "\n",
    "\n",
    "app_map = {\n",
    "  # $DIR/Stats_dijkstra.txt ${SHOME}/apps/dijkstra/dijkstra_small  ${SHOME}/apps/dijkstra/input.dat\n",
    "  \"dijkstra_small\": \"./apps/dijkstra/dijkstra_small ./apps/dijkstra/input.dat > /dev/null\",\n",
    "  # ${DIR}/Stats_stringsearch-cabce.txt ${SHOME}/apps/stringsearch/search_small  &\n",
    "  # \"stringsearch-cabce\": \"./apps/stringsearch/search_small > /dev/null\",\n",
    "  # # ${SHOME}/apps/qsort/qsort_small  ${SHOME}/apps/qsort/input_small.dat\n",
    "  # \"qsort_small\": \"./apps/qsort/qsort_small ./apps/qsort/input_small.dat > /dev/null\",\n",
    "  # # ${SHOME}/apps/gsm-untoast/untoast -fps -c ${SHOME}/apps/gsm-untoast/small.au.run.gsm\n",
    "  # \"gsm-untoast\": \"./apps/gsm-untoast/untoast -fps -c ./apps/gsm-untoast/small.au.run.gsm > /dev/null\",\n",
    "  # # ${SHOME}/apps/jpeg-cjpeg/cjpeg -dct int -progressive -opt -outfile ${SHOME}/configs/${DIR}/jpeg-cjpeg_output_small_encode.jpeg ${SHOME}/apps/jpeg-cjpeg/input_small.ppm\n",
    "  # \"jpeg-cjpeg\": \"./apps/jpeg-cjpeg/cjpeg -dct int -progressive -opt -outfile /tmp/jpeg-cjpeg_output_small_encode.jpeg ./apps/jpeg-cjpeg/input_small.ppm > /dev/null\"\n",
    "}\n",
    "\n",
    "print(app_map.keys())\n",
    "plist = []\n",
    "for ifqs in IF_Queue_size_list:\n",
    "  for ruus in RUU_size_list:\n",
    "    lsq = ruus//2\n",
    "    for alus in ALUs_list:\n",
    "      for mults in Mults_list:\n",
    "        for iwp in Issue_wrong_path_list:\n",
    "          output_folder = \"ifqs_%d_ruus_%d_lsq_%d_alus_%d_mults_%d_iwp_%s\" % (ifqs,ruus,lsq,alus,mults,iwp)    \n",
    "          output_folder = os.path.join(\"./configs/task_2_2/\", output_folder)\n",
    "          run_a_cmd(\"mkdir -p \" + output_folder)\n",
    "          for app in app_map.keys(): \n",
    "            stats_output_path=os.path.join(output_folder,\"Stats_\" + app + \".txt\" )\n",
    "            cmd= SIM_BIN + \" \"  + CONFIG + \" \"\\\n",
    "                + \"-bpred comb  -issue:inorder false \" \\\n",
    "                + \"-fetch:ifqsize %d \" % ifqs \\\n",
    "                + \"-ruu:size %d \" % ruus \\\n",
    "                + \"-lsq:size %d \" % lsq \\\n",
    "                + \"-res:ialu %d \" % alus \\\n",
    "                + \"-res:imult %d \" % mults \\\n",
    "                + \"-issue:wrongpath %s \" % iwp \\\n",
    "                + \" -redir:sim \" + stats_output_path \\\n",
    "                + \" \"  + app_map[app]\n",
    "            t = threading.Thread(target=run_a_cmd,args=(cmd,))\n",
    "            # run_a_cmd(cmd, True)\n",
    "            t.start()\n",
    "            plist.append(t)\n",
    "            if len(plist)>= os.cpu_count() * 2 :\n",
    "              print(\"%d thread have been strated!, waitting them to be done!\"% len(plist))\n",
    "              # wait all thread done\n",
    "              for i in tqdm(range(len(plist)), \"batch processing...\"):\n",
    "                t= plist[i]\n",
    "                t.join()\n",
    "                # print(\"%d:%d done!\"%(i+1, len(plist)))\n",
    "              plist=[]\n"
   ]
  }
 ],
 "metadata": {
  "kernelspec": {
   "display_name": "Python 3",
   "language": "python",
   "name": "python3"
  },
  "language_info": {
   "codemirror_mode": {
    "name": "ipython",
    "version": 3
   },
   "file_extension": ".py",
   "mimetype": "text/x-python",
   "name": "python",
   "nbconvert_exporter": "python",
   "pygments_lexer": "ipython3",
   "version": "3.8.10"
  },
  "orig_nbformat": 4
 },
 "nbformat": 4,
 "nbformat_minor": 2
}
